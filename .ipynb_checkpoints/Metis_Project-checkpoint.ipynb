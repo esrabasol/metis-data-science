{
 "cells": [
  {
   "cell_type": "markdown",
   "metadata": {},
   "source": [
    "# Google Play Store Apps Project"
   ]
  },
  {
   "cell_type": "code",
   "execution_count": null,
   "metadata": {},
   "outputs": [],
   "source": [
    "1) #there are exactly duplicate rows. Remove duplicate rows\n",
    "print(app_data.shape)\n",
    "app_data.drop_duplicates(keep='first',inplace=False) \n",
    "print(app_data.shape)\n",
    "\n",
    "should I do 'inplace=True?' or False??\n",
    "\n",
    "2)\n",
    "Can I do something to Installs? Should I remove '+' and convert to numeric type? or Should it stay as categorical level?\n",
    "1,000,000+        1579\n",
    "10,000,000+       1252\n",
    "100,000+          1169\n",
    "10,000+           1054\n",
    "1,000+             908\n",
    "5,000,000+         752\n",
    "100+               719\n",
    "500,000+           539\n",
    "50,000+            479\n",
    "5,000+             477\n",
    "100,000,000+       409\n",
    "10+                386\n",
    "500+               330\n",
    "50,000,000+        289\n",
    "50+                205\n",
    "5+                  82\n",
    "500,000,000+        72\n",
    "1+                  67\n",
    "1,000,000,000+      58\n",
    "0+                  14\n",
    "0                    1\n",
    "\n",
    "\n",
    "4) app_data[~app_data.Reviews.str.isnumeric()]\n",
    "it gets the below error:\n",
    "TypeError: bad operand type for unary ~: 'float'\n",
    "        \n",
    "Icould not solve it. Do you have an idea? If not, I will search one more time.\n",
    "\n",
    "\n"
   ]
  },
  {
   "cell_type": "markdown",
   "metadata": {},
   "source": [
    "Here is the schema of the applications on Google Play dataset, found in `googleplaystore.csv`:\n",
    "\n",
    "`App`: Application name\n",
    "\n",
    "`Category` : Category the app belongs to\n",
    "\n",
    "`Rating` : Overall user rating of the app (as when scraped)\n",
    "\n",
    "`Reviews` : Number of user reviews for the app (as when scraped)\n",
    "\n",
    "`Size` : Size of the app (as when scraped)\n",
    "\n",
    "`Installs` : Number of user downloads/installs for the app (as when scraped)\n",
    "\n",
    "`Type` : Paid or Free\n",
    "\n",
    "`Price` : Price of the app (as when scraped)\n",
    "\n",
    "`Content`:  RatingAge group the app is targeted at - Children / Mature 21+ / Adult\n",
    "\n",
    "`Genres` : An app can belong to multiple genres (apart from its main category). For eg, a musical family game will belong to Music, Game, Family genres.\n",
    "\n",
    "\n",
    "\n",
    "This file contains the first 'most relevant' 100 reviews for each app. And here is the schema for the user review dataset, found in `googleplaystore_user_reviews.csv`.\n",
    "\n",
    "`App`: Name of app\n",
    "\n",
    "`Translated_Review`: User review (Preprocessed and translated to English)\n",
    "\n",
    "`Sentiment`: Positive/Negative/Neutral (Preprocessed)\n",
    "\n",
    "`Sentiment_Polarity`: Sentiment polarity score\n",
    "\n",
    "`Sentiment_Subjectivity`: Sentiment subjectivity score"
   ]
  },
  {
   "cell_type": "code",
   "execution_count": 375,
   "metadata": {},
   "outputs": [],
   "source": [
    "#getting and working with data\n",
    "import pandas as pd\n",
    "import numpy as np\n",
    "\n",
    "#visualizing results\n",
    "%matplotlib inline\n",
    "import seaborn as sns\n",
    "from matplotlib import pyplot as plt"
   ]
  },
  {
   "cell_type": "code",
   "execution_count": 376,
   "metadata": {},
   "outputs": [
    {
     "data": {
      "text/plain": [
       "(10841, 13)"
      ]
     },
     "execution_count": 376,
     "metadata": {},
     "output_type": "execute_result"
    }
   ],
   "source": [
    "app_data=pd.read_csv(\"C:\\\\Users\\\\esra.ozalp\\\\Documents\\\\metis-data-science\\\\data\\\\googleplaystore.csv\")\n",
    "app_data.head()\n",
    "app_data.shape"
   ]
  },
  {
   "cell_type": "code",
   "execution_count": 377,
   "metadata": {},
   "outputs": [
    {
     "data": {
      "text/html": [
       "<div>\n",
       "<style scoped>\n",
       "    .dataframe tbody tr th:only-of-type {\n",
       "        vertical-align: middle;\n",
       "    }\n",
       "\n",
       "    .dataframe tbody tr th {\n",
       "        vertical-align: top;\n",
       "    }\n",
       "\n",
       "    .dataframe thead th {\n",
       "        text-align: right;\n",
       "    }\n",
       "</style>\n",
       "<table border=\"1\" class=\"dataframe\">\n",
       "  <thead>\n",
       "    <tr style=\"text-align: right;\">\n",
       "      <th></th>\n",
       "      <th>App</th>\n",
       "      <th>Category</th>\n",
       "      <th>Rating</th>\n",
       "      <th>Reviews</th>\n",
       "      <th>Size</th>\n",
       "      <th>Installs</th>\n",
       "      <th>Type</th>\n",
       "      <th>Price</th>\n",
       "      <th>Content_Rating</th>\n",
       "      <th>Genres</th>\n",
       "      <th>Last_Updated</th>\n",
       "      <th>Current_Ver</th>\n",
       "      <th>Android_Ver</th>\n",
       "    </tr>\n",
       "  </thead>\n",
       "  <tbody>\n",
       "    <tr>\n",
       "      <th>0</th>\n",
       "      <td>Photo Editor &amp; Candy Camera &amp; Grid &amp; ScrapBook</td>\n",
       "      <td>ART_AND_DESIGN</td>\n",
       "      <td>4.1</td>\n",
       "      <td>159</td>\n",
       "      <td>19M</td>\n",
       "      <td>10,000+</td>\n",
       "      <td>Free</td>\n",
       "      <td>0</td>\n",
       "      <td>Everyone</td>\n",
       "      <td>Art &amp; Design</td>\n",
       "      <td>January 7, 2018</td>\n",
       "      <td>1.0.0</td>\n",
       "      <td>4.0.3 and up</td>\n",
       "    </tr>\n",
       "    <tr>\n",
       "      <th>1</th>\n",
       "      <td>Coloring book moana</td>\n",
       "      <td>ART_AND_DESIGN</td>\n",
       "      <td>3.9</td>\n",
       "      <td>967</td>\n",
       "      <td>14M</td>\n",
       "      <td>500,000+</td>\n",
       "      <td>Free</td>\n",
       "      <td>0</td>\n",
       "      <td>Everyone</td>\n",
       "      <td>Art &amp; Design;Pretend Play</td>\n",
       "      <td>January 15, 2018</td>\n",
       "      <td>2.0.0</td>\n",
       "      <td>4.0.3 and up</td>\n",
       "    </tr>\n",
       "    <tr>\n",
       "      <th>2</th>\n",
       "      <td>U Launcher Lite – FREE Live Cool Themes, Hide ...</td>\n",
       "      <td>ART_AND_DESIGN</td>\n",
       "      <td>4.7</td>\n",
       "      <td>87510</td>\n",
       "      <td>8.7M</td>\n",
       "      <td>5,000,000+</td>\n",
       "      <td>Free</td>\n",
       "      <td>0</td>\n",
       "      <td>Everyone</td>\n",
       "      <td>Art &amp; Design</td>\n",
       "      <td>August 1, 2018</td>\n",
       "      <td>1.2.4</td>\n",
       "      <td>4.0.3 and up</td>\n",
       "    </tr>\n",
       "    <tr>\n",
       "      <th>3</th>\n",
       "      <td>Sketch - Draw &amp; Paint</td>\n",
       "      <td>ART_AND_DESIGN</td>\n",
       "      <td>4.5</td>\n",
       "      <td>215644</td>\n",
       "      <td>25M</td>\n",
       "      <td>50,000,000+</td>\n",
       "      <td>Free</td>\n",
       "      <td>0</td>\n",
       "      <td>Teen</td>\n",
       "      <td>Art &amp; Design</td>\n",
       "      <td>June 8, 2018</td>\n",
       "      <td>Varies with device</td>\n",
       "      <td>4.2 and up</td>\n",
       "    </tr>\n",
       "    <tr>\n",
       "      <th>4</th>\n",
       "      <td>Pixel Draw - Number Art Coloring Book</td>\n",
       "      <td>ART_AND_DESIGN</td>\n",
       "      <td>4.3</td>\n",
       "      <td>967</td>\n",
       "      <td>2.8M</td>\n",
       "      <td>100,000+</td>\n",
       "      <td>Free</td>\n",
       "      <td>0</td>\n",
       "      <td>Everyone</td>\n",
       "      <td>Art &amp; Design;Creativity</td>\n",
       "      <td>June 20, 2018</td>\n",
       "      <td>1.1</td>\n",
       "      <td>4.4 and up</td>\n",
       "    </tr>\n",
       "  </tbody>\n",
       "</table>\n",
       "</div>"
      ],
      "text/plain": [
       "                                                 App        Category  Rating  \\\n",
       "0     Photo Editor & Candy Camera & Grid & ScrapBook  ART_AND_DESIGN     4.1   \n",
       "1                                Coloring book moana  ART_AND_DESIGN     3.9   \n",
       "2  U Launcher Lite – FREE Live Cool Themes, Hide ...  ART_AND_DESIGN     4.7   \n",
       "3                              Sketch - Draw & Paint  ART_AND_DESIGN     4.5   \n",
       "4              Pixel Draw - Number Art Coloring Book  ART_AND_DESIGN     4.3   \n",
       "\n",
       "  Reviews  Size     Installs  Type Price Content_Rating  \\\n",
       "0     159   19M      10,000+  Free     0       Everyone   \n",
       "1     967   14M     500,000+  Free     0       Everyone   \n",
       "2   87510  8.7M   5,000,000+  Free     0       Everyone   \n",
       "3  215644   25M  50,000,000+  Free     0           Teen   \n",
       "4     967  2.8M     100,000+  Free     0       Everyone   \n",
       "\n",
       "                      Genres      Last_Updated         Current_Ver  \\\n",
       "0               Art & Design   January 7, 2018               1.0.0   \n",
       "1  Art & Design;Pretend Play  January 15, 2018               2.0.0   \n",
       "2               Art & Design    August 1, 2018               1.2.4   \n",
       "3               Art & Design      June 8, 2018  Varies with device   \n",
       "4    Art & Design;Creativity     June 20, 2018                 1.1   \n",
       "\n",
       "    Android_Ver  \n",
       "0  4.0.3 and up  \n",
       "1  4.0.3 and up  \n",
       "2  4.0.3 and up  \n",
       "3    4.2 and up  \n",
       "4    4.4 and up  "
      ]
     },
     "execution_count": 377,
     "metadata": {},
     "output_type": "execute_result"
    }
   ],
   "source": [
    "#change column name eg: Content Rating to Content_Rating\n",
    "#app_data=app_data.rename({'Content Rating':'Content_rating','Last Updated':'Last_updated','Current Ver':'Current_Ver','Android Ver':'Android_Ver'},axis=1)\n",
    "app_data.columns=app_data.columns.str.replace(\" \",\"_\")\n",
    "app_data.head()"
   ]
  },
  {
   "cell_type": "code",
   "execution_count": 378,
   "metadata": {},
   "outputs": [
    {
     "name": "stdout",
     "output_type": "stream",
     "text": [
      "(10841, 13)\n",
      "App                object\n",
      "Category           object\n",
      "Rating            float64\n",
      "Reviews            object\n",
      "Size               object\n",
      "Installs           object\n",
      "Type               object\n",
      "Price              object\n",
      "Content_Rating     object\n",
      "Genres             object\n",
      "Last_Updated       object\n",
      "Current_Ver        object\n",
      "Android_Ver        object\n",
      "dtype: object\n"
     ]
    }
   ],
   "source": [
    "print(app_data.shape)\n",
    "print(app_data.dtypes)\n",
    "# print(app_data.Rating.value_counts())\n"
   ]
  },
  {
   "cell_type": "code",
   "execution_count": 379,
   "metadata": {},
   "outputs": [
    {
     "name": "stdout",
     "output_type": "stream",
     "text": [
      "(10841, 13)\n",
      "(10841, 13)\n"
     ]
    }
   ],
   "source": [
    "#there are exactly duplicate rows. Remove duplicate rows\n",
    "print(app_data.shape)\n",
    "app_data.drop_duplicates(keep='first',inplace=False) \n",
    "print(app_data.shape)"
   ]
  },
  {
   "cell_type": "markdown",
   "metadata": {},
   "source": [
    "# RATING"
   ]
  },
  {
   "cell_type": "code",
   "execution_count": 380,
   "metadata": {},
   "outputs": [],
   "source": [
    "#check whether rating values are sensible.\n",
    "app_data.Rating.value_counts()\n",
    "\n",
    "# rating==19.0       1\n",
    "# 1 row has to be shifted 1 column right\n",
    "app_data.iloc[10472,1:]=app_data.iloc[10472,1:].shift()\n",
    "app_data.iloc[10472]\n",
    "\n",
    "app_data.Rating=app_data.Rating.astype('float')"
   ]
  },
  {
   "cell_type": "code",
   "execution_count": 381,
   "metadata": {},
   "outputs": [
    {
     "data": {
      "text/plain": [
       "<matplotlib.axes._subplots.AxesSubplot at 0x1812e133c88>"
      ]
     },
     "execution_count": 381,
     "metadata": {},
     "output_type": "execute_result"
    },
    {
     "data": {
      "image/png": "[encoded data removed]",
      "text/plain": [
       "<Figure size 1296x288 with 1 Axes>"
      ]
     },
     "metadata": {
      "needs_background": "light"
     },
     "output_type": "display_data"
    }
   ],
   "source": [
    "app_data.Rating.value_counts()\n",
    "plt.figure(figsize=(18,4))\n",
    "sns.countplot(data=app_data,x='Rating',order=reversed(app_data.Rating.value_counts().index))\n"
   ]
  },
  {
   "cell_type": "markdown",
   "metadata": {},
   "source": [
    "# INSTALLS"
   ]
  },
  {
   "cell_type": "code",
   "execution_count": 382,
   "metadata": {},
   "outputs": [
    {
     "data": {
      "text/plain": [
       "1,000,000+        1579\n",
       "10,000,000+       1252\n",
       "100,000+          1169\n",
       "10,000+           1054\n",
       "1,000+             908\n",
       "5,000,000+         752\n",
       "100+               719\n",
       "500,000+           539\n",
       "50,000+            479\n",
       "5,000+             477\n",
       "100,000,000+       409\n",
       "10+                386\n",
       "500+               330\n",
       "50,000,000+        289\n",
       "50+                205\n",
       "5+                  82\n",
       "500,000,000+        72\n",
       "1+                  67\n",
       "1,000,000,000+      58\n",
       "0+                  14\n",
       "0                    1\n",
       "Name: Installs, dtype: int64"
      ]
     },
     "execution_count": 382,
     "metadata": {},
     "output_type": "execute_result"
    }
   ],
   "source": [
    "app_data.Installs.value_counts()\n",
    "#remove + from end??/\n"
   ]
  },
  {
   "cell_type": "markdown",
   "metadata": {},
   "source": [
    "# PRICE"
   ]
  },
  {
   "cell_type": "code",
   "execution_count": 383,
   "metadata": {},
   "outputs": [
    {
     "name": "stderr",
     "output_type": "stream",
     "text": [
      "C:\\Users\\esra.ozalp\\AppData\\Local\\Continuum\\anaconda3\\lib\\site-packages\\ipykernel_launcher.py:3: SettingWithCopyWarning: \n",
      "A value is trying to be set on a copy of a slice from a DataFrame\n",
      "\n",
      "See the caveats in the documentation: http://pandas.pydata.org/pandas-docs/stable/indexing.html#indexing-view-versus-copy\n",
      "  This is separate from the ipykernel package so we can avoid doing imports until\n"
     ]
    }
   ],
   "source": [
    "app_data.Price.value_counts()\n",
    "#remove $ from the beginning\n",
    "app_data.Price[app_data.Price!='0']=app_data.Price.str.slice(1,)"
   ]
  },
  {
   "cell_type": "code",
   "execution_count": 393,
   "metadata": {},
   "outputs": [
    {
     "data": {
      "text/plain": [
       "dtype('float64')"
      ]
     },
     "execution_count": 393,
     "metadata": {},
     "output_type": "execute_result"
    }
   ],
   "source": [
    "#change data type from string to float\n",
    "app_data.Price=app_data.Price.astype('float')\n",
    "app_data.Price.dtype"
   ]
  },
  {
   "cell_type": "markdown",
   "metadata": {},
   "source": [
    "# SIZE"
   ]
  },
  {
   "cell_type": "code",
   "execution_count": 330,
   "metadata": {},
   "outputs": [
    {
     "data": {
      "text/plain": [
       "Varies with device    1695\n",
       "11e+6                  198\n",
       "12e+6                  196\n",
       "14e+6                  194\n",
       "13e+6                  191\n",
       "15e+6                  184\n",
       "17e+6                  160\n",
       "19e+6                  154\n",
       "26e+6                  149\n",
       "16e+6                  149\n",
       "25e+6                  143\n",
       "20e+6                  139\n",
       "21e+6                  138\n",
       "10e+6                  136\n",
       "24e+6                  136\n",
       "18e+6                  133\n",
       "23e+6                  117\n",
       "22e+6                  114\n",
       "29e+6                  103\n",
       "27e+6                   97\n",
       "28e+6                   95\n",
       "30e+6                   84\n",
       "33e+6                   79\n",
       "3.3e+6                  77\n",
       "37e+6                   76\n",
       "35e+6                   72\n",
       "31e+6                   70\n",
       "2.9e+6                  69\n",
       "2.5e+6                  68\n",
       "2.3e+6                  68\n",
       "                      ... \n",
       "429e+3                   1\n",
       "20e+3                    1\n",
       "613e+3                   1\n",
       "940e+3                   1\n",
       "809e+3                   1\n",
       "122e+3                   1\n",
       "387e+3                   1\n",
       "420e+3                   1\n",
       "378e+3                   1\n",
       "811e+3                   1\n",
       "176e+3                   1\n",
       "210e+3                   1\n",
       "749e+3                   1\n",
       "467e+3                   1\n",
       "1020e+3                  1\n",
       "881e+3                   1\n",
       "754e+3                   1\n",
       "683e+3                   1\n",
       "239e+3                   1\n",
       "772e+3                   1\n",
       "775e+3                   1\n",
       "498e+3                   1\n",
       "903e+3                   1\n",
       "293e+3                   1\n",
       "78e+3                    1\n",
       "25e+3                    1\n",
       "837e+3                   1\n",
       "746e+3                   1\n",
       "916e+3                   1\n",
       "801e+3                   1\n",
       "Name: Size, Length: 461, dtype: int64"
      ]
     },
     "execution_count": 330,
     "metadata": {},
     "output_type": "execute_result"
    }
   ],
   "source": [
    "app_data.Size.value_counts()"
   ]
  },
  {
   "cell_type": "code",
   "execution_count": 387,
   "metadata": {},
   "outputs": [
    {
     "data": {
      "text/plain": [
       "Varies with device    1695\n",
       "11M                    198\n",
       "12M                    196\n",
       "14M                    194\n",
       "13M                    191\n",
       "15M                    184\n",
       "17M                    160\n",
       "19M                    154\n",
       "16M                    149\n",
       "26M                    149\n",
       "25M                    143\n",
       "20M                    139\n",
       "21M                    138\n",
       "24M                    136\n",
       "10M                    136\n",
       "18M                    133\n",
       "23M                    117\n",
       "22M                    114\n",
       "29M                    103\n",
       "27M                     97\n",
       "28M                     95\n",
       "30M                     84\n",
       "33M                     79\n",
       "3.3M                    77\n",
       "37M                     76\n",
       "35M                     72\n",
       "31M                     70\n",
       "2.9M                    69\n",
       "2.5M                    68\n",
       "2.3M                    68\n",
       "                      ... \n",
       "292k                     1\n",
       "44k                      1\n",
       "116k                     1\n",
       "642k                     1\n",
       "470k                     1\n",
       "775k                     1\n",
       "454k                     1\n",
       "499k                     1\n",
       "582k                     1\n",
       "516k                     1\n",
       "314k                     1\n",
       "930k                     1\n",
       "705k                     1\n",
       "865k                     1\n",
       "48k                      1\n",
       "730k                     1\n",
       "442k                     1\n",
       "914k                     1\n",
       "45k                      1\n",
       "787k                     1\n",
       "157k                     1\n",
       "982k                     1\n",
       "288k                     1\n",
       "253k                     1\n",
       "41k                      1\n",
       "809k                     1\n",
       "186k                     1\n",
       "696k                     1\n",
       "209k                     1\n",
       "545k                     1\n",
       "Name: Size, Length: 461, dtype: int64"
      ]
     },
     "execution_count": 387,
     "metadata": {},
     "output_type": "execute_result"
    }
   ],
   "source": [
    "def is_covertible(v):\n",
    "    try:\n",
    "        float(v)\n",
    "        return True\n",
    "    except ValueError:\n",
    "        return False\n",
    "    \n",
    "app_data_size=app_data.Size.apply(lambda x: is_covertible(x))\n",
    "app_data.Size[~app_data_size].value_counts()"
   ]
  },
  {
   "cell_type": "code",
   "execution_count": 388,
   "metadata": {},
   "outputs": [],
   "source": [
    "app_data.Size=app_data.Size.str.replace('k','e+3')\n",
    "app_data.Size=app_data.Size.str.replace('M','e+6')\n",
    "app_data.Size=app_data.Size.replace('Varies with device',np.nan)"
   ]
  },
  {
   "cell_type": "code",
   "execution_count": 389,
   "metadata": {},
   "outputs": [],
   "source": [
    "app_data.Size=app_data.Size.astype('float')"
   ]
  },
  {
   "cell_type": "code",
   "execution_count": 390,
   "metadata": {},
   "outputs": [
    {
     "name": "stderr",
     "output_type": "stream",
     "text": [
      "C:\\Users\\esra.ozalp\\AppData\\Local\\Continuum\\anaconda3\\lib\\site-packages\\numpy\\lib\\histograms.py:824: RuntimeWarning: invalid value encountered in greater_equal\n",
      "  keep = (tmp_a >= first_edge)\n",
      "C:\\Users\\esra.ozalp\\AppData\\Local\\Continuum\\anaconda3\\lib\\site-packages\\numpy\\lib\\histograms.py:825: RuntimeWarning: invalid value encountered in less_equal\n",
      "  keep &= (tmp_a <= last_edge)\n"
     ]
    },
    {
     "data": {
      "image/png": "[encoded data removed]",
      "text/plain": [
       "<Figure size 432x288 with 1 Axes>"
      ]
     },
     "metadata": {
      "needs_background": "light"
     },
     "output_type": "display_data"
    }
   ],
   "source": [
    "sns.mpl.pyplot.hist(app_data.Size)\n",
    "sns.mpl.pyplot.xlabel(\"Size\")\n",
    "sns.mpl.pyplot.ylabel(\"Frequency\");\n"
   ]
  },
  {
   "cell_type": "markdown",
   "metadata": {},
   "source": [
    "# Reviews"
   ]
  },
  {
   "cell_type": "code",
   "execution_count": 399,
   "metadata": {},
   "outputs": [
    {
     "ename": "AttributeError",
     "evalue": "Can only use .str accessor with string values, which use np.object_ dtype in pandas",
     "output_type": "error",
     "traceback": [
      "\u001b[1;31m---------------------------------------------------------------------------\u001b[0m",
      "\u001b[1;31mAttributeError\u001b[0m                            Traceback (most recent call last)",
      "\u001b[1;32m<ipython-input-399-db1cafd4ecda>\u001b[0m in \u001b[0;36m<module>\u001b[1;34m\u001b[0m\n\u001b[0;32m      1\u001b[0m \u001b[0mapp_data\u001b[0m\u001b[1;33m.\u001b[0m\u001b[0mReviews\u001b[0m\u001b[1;33m.\u001b[0m\u001b[0mvalue_counts\u001b[0m\u001b[1;33m(\u001b[0m\u001b[1;33m)\u001b[0m\u001b[1;33m\u001b[0m\u001b[1;33m\u001b[0m\u001b[0m\n\u001b[0;32m      2\u001b[0m \u001b[0mapp_data\u001b[0m\u001b[1;33m.\u001b[0m\u001b[0mReviews\u001b[0m\u001b[1;33m.\u001b[0m\u001b[0mcount\u001b[0m\u001b[1;33m(\u001b[0m\u001b[1;33m)\u001b[0m\u001b[1;33m.\u001b[0m\u001b[0mmax\u001b[0m\u001b[1;33m(\u001b[0m\u001b[1;33m)\u001b[0m\u001b[1;33m\u001b[0m\u001b[1;33m\u001b[0m\u001b[0m\n\u001b[1;32m----> 3\u001b[1;33m \u001b[0mapp_data\u001b[0m\u001b[1;33m.\u001b[0m\u001b[0mReviews\u001b[0m\u001b[1;33m.\u001b[0m\u001b[0mfillna\u001b[0m\u001b[1;33m(\u001b[0m\u001b[1;34m''\u001b[0m\u001b[1;33m)\u001b[0m\u001b[1;33m.\u001b[0m\u001b[0mstr\u001b[0m\u001b[1;33m.\u001b[0m\u001b[0misnumeric\u001b[0m\u001b[1;33m(\u001b[0m\u001b[1;33m)\u001b[0m\u001b[1;33m.\u001b[0m\u001b[0msum\u001b[0m\u001b[1;33m(\u001b[0m\u001b[1;33m)\u001b[0m\u001b[1;33m\u001b[0m\u001b[1;33m\u001b[0m\u001b[0m\n\u001b[0m\u001b[0;32m      4\u001b[0m \u001b[1;31m#10840\u001b[0m\u001b[1;33m\u001b[0m\u001b[1;33m\u001b[0m\u001b[1;33m\u001b[0m\u001b[0m\n\u001b[0;32m      5\u001b[0m \u001b[0mapp_data\u001b[0m\u001b[1;33m[\u001b[0m\u001b[1;33m~\u001b[0m\u001b[0mapp_data\u001b[0m\u001b[1;33m.\u001b[0m\u001b[0mReviews\u001b[0m\u001b[1;33m.\u001b[0m\u001b[0mstr\u001b[0m\u001b[1;33m.\u001b[0m\u001b[0misnumeric\u001b[0m\u001b[1;33m(\u001b[0m\u001b[1;33m)\u001b[0m\u001b[1;33m]\u001b[0m\u001b[1;33m\u001b[0m\u001b[1;33m\u001b[0m\u001b[0m\n",
      "\u001b[1;32m~\\AppData\\Local\\Continuum\\anaconda3\\lib\\site-packages\\pandas\\core\\generic.py\u001b[0m in \u001b[0;36m__getattr__\u001b[1;34m(self, name)\u001b[0m\n\u001b[0;32m   5061\u001b[0m         if (name in self._internal_names_set or name in self._metadata or\n\u001b[0;32m   5062\u001b[0m                 name in self._accessors):\n\u001b[1;32m-> 5063\u001b[1;33m             \u001b[1;32mreturn\u001b[0m \u001b[0mobject\u001b[0m\u001b[1;33m.\u001b[0m\u001b[0m__getattribute__\u001b[0m\u001b[1;33m(\u001b[0m\u001b[0mself\u001b[0m\u001b[1;33m,\u001b[0m \u001b[0mname\u001b[0m\u001b[1;33m)\u001b[0m\u001b[1;33m\u001b[0m\u001b[1;33m\u001b[0m\u001b[0m\n\u001b[0m\u001b[0;32m   5064\u001b[0m         \u001b[1;32melse\u001b[0m\u001b[1;33m:\u001b[0m\u001b[1;33m\u001b[0m\u001b[1;33m\u001b[0m\u001b[0m\n\u001b[0;32m   5065\u001b[0m             \u001b[1;32mif\u001b[0m \u001b[0mself\u001b[0m\u001b[1;33m.\u001b[0m\u001b[0m_info_axis\u001b[0m\u001b[1;33m.\u001b[0m\u001b[0m_can_hold_identifiers_and_holds_name\u001b[0m\u001b[1;33m(\u001b[0m\u001b[0mname\u001b[0m\u001b[1;33m)\u001b[0m\u001b[1;33m:\u001b[0m\u001b[1;33m\u001b[0m\u001b[1;33m\u001b[0m\u001b[0m\n",
      "\u001b[1;32m~\\AppData\\Local\\Continuum\\anaconda3\\lib\\site-packages\\pandas\\core\\accessor.py\u001b[0m in \u001b[0;36m__get__\u001b[1;34m(self, obj, cls)\u001b[0m\n\u001b[0;32m    169\u001b[0m             \u001b[1;31m# we're accessing the attribute of the class, i.e., Dataset.geo\u001b[0m\u001b[1;33m\u001b[0m\u001b[1;33m\u001b[0m\u001b[1;33m\u001b[0m\u001b[0m\n\u001b[0;32m    170\u001b[0m             \u001b[1;32mreturn\u001b[0m \u001b[0mself\u001b[0m\u001b[1;33m.\u001b[0m\u001b[0m_accessor\u001b[0m\u001b[1;33m\u001b[0m\u001b[1;33m\u001b[0m\u001b[0m\n\u001b[1;32m--> 171\u001b[1;33m         \u001b[0maccessor_obj\u001b[0m \u001b[1;33m=\u001b[0m \u001b[0mself\u001b[0m\u001b[1;33m.\u001b[0m\u001b[0m_accessor\u001b[0m\u001b[1;33m(\u001b[0m\u001b[0mobj\u001b[0m\u001b[1;33m)\u001b[0m\u001b[1;33m\u001b[0m\u001b[1;33m\u001b[0m\u001b[0m\n\u001b[0m\u001b[0;32m    172\u001b[0m         \u001b[1;31m# Replace the property with the accessor object. Inspired by:\u001b[0m\u001b[1;33m\u001b[0m\u001b[1;33m\u001b[0m\u001b[1;33m\u001b[0m\u001b[0m\n\u001b[0;32m    173\u001b[0m         \u001b[1;31m# http://www.pydanny.com/cached-property.html\u001b[0m\u001b[1;33m\u001b[0m\u001b[1;33m\u001b[0m\u001b[1;33m\u001b[0m\u001b[0m\n",
      "\u001b[1;32m~\\AppData\\Local\\Continuum\\anaconda3\\lib\\site-packages\\pandas\\core\\strings.py\u001b[0m in \u001b[0;36m__init__\u001b[1;34m(self, data)\u001b[0m\n\u001b[0;32m   1794\u001b[0m \u001b[1;33m\u001b[0m\u001b[0m\n\u001b[0;32m   1795\u001b[0m     \u001b[1;32mdef\u001b[0m \u001b[0m__init__\u001b[0m\u001b[1;33m(\u001b[0m\u001b[0mself\u001b[0m\u001b[1;33m,\u001b[0m \u001b[0mdata\u001b[0m\u001b[1;33m)\u001b[0m\u001b[1;33m:\u001b[0m\u001b[1;33m\u001b[0m\u001b[1;33m\u001b[0m\u001b[0m\n\u001b[1;32m-> 1796\u001b[1;33m         \u001b[0mself\u001b[0m\u001b[1;33m.\u001b[0m\u001b[0m_validate\u001b[0m\u001b[1;33m(\u001b[0m\u001b[0mdata\u001b[0m\u001b[1;33m)\u001b[0m\u001b[1;33m\u001b[0m\u001b[1;33m\u001b[0m\u001b[0m\n\u001b[0m\u001b[0;32m   1797\u001b[0m         \u001b[0mself\u001b[0m\u001b[1;33m.\u001b[0m\u001b[0m_is_categorical\u001b[0m \u001b[1;33m=\u001b[0m \u001b[0mis_categorical_dtype\u001b[0m\u001b[1;33m(\u001b[0m\u001b[0mdata\u001b[0m\u001b[1;33m)\u001b[0m\u001b[1;33m\u001b[0m\u001b[1;33m\u001b[0m\u001b[0m\n\u001b[0;32m   1798\u001b[0m \u001b[1;33m\u001b[0m\u001b[0m\n",
      "\u001b[1;32m~\\AppData\\Local\\Continuum\\anaconda3\\lib\\site-packages\\pandas\\core\\strings.py\u001b[0m in \u001b[0;36m_validate\u001b[1;34m(data)\u001b[0m\n\u001b[0;32m   1816\u001b[0m             \u001b[1;31m# (instead of test for object dtype), but that isn't practical for\u001b[0m\u001b[1;33m\u001b[0m\u001b[1;33m\u001b[0m\u001b[1;33m\u001b[0m\u001b[0m\n\u001b[0;32m   1817\u001b[0m             \u001b[1;31m# performance reasons until we have a str dtype (GH 9343)\u001b[0m\u001b[1;33m\u001b[0m\u001b[1;33m\u001b[0m\u001b[1;33m\u001b[0m\u001b[0m\n\u001b[1;32m-> 1818\u001b[1;33m             raise AttributeError(\"Can only use .str accessor with string \"\n\u001b[0m\u001b[0;32m   1819\u001b[0m                                  \u001b[1;34m\"values, which use np.object_ dtype in \"\u001b[0m\u001b[1;33m\u001b[0m\u001b[1;33m\u001b[0m\u001b[0m\n\u001b[0;32m   1820\u001b[0m                                  \"pandas\")\n",
      "\u001b[1;31mAttributeError\u001b[0m: Can only use .str accessor with string values, which use np.object_ dtype in pandas"
     ]
    }
   ],
   "source": [
    "app_data.Reviews.value_counts()\n",
    "app_data.Reviews.count().max()\n",
    "app_data.Reviews.fillna('').str.isnumeric().sum()\n",
    "#10840\n",
    "app_data[~app_data.Reviews.str.isnumeric()]\n",
    "# app_data.Reviews=app_data.Reviews.astype('int')\n"
   ]
  },
  {
   "cell_type": "code",
   "execution_count": 394,
   "metadata": {},
   "outputs": [
    {
     "data": {
      "text/plain": [
       "App                object\n",
       "Category           object\n",
       "Rating            float64\n",
       "Reviews             int32\n",
       "Size              float64\n",
       "Installs           object\n",
       "Type               object\n",
       "Price             float64\n",
       "Content_Rating     object\n",
       "Genres             object\n",
       "Last_Updated       object\n",
       "Current_Ver        object\n",
       "Android_Ver        object\n",
       "dtype: object"
      ]
     },
     "execution_count": 394,
     "metadata": {},
     "output_type": "execute_result"
    }
   ],
   "source": [
    "app_data.dtypes"
   ]
  },
  {
   "cell_type": "code",
   "execution_count": 374,
   "metadata": {},
   "outputs": [
    {
     "data": {
      "text/plain": [
       "App                  0\n",
       "Category             1\n",
       "Rating            1475\n",
       "Reviews              0\n",
       "Size              1695\n",
       "Installs             0\n",
       "Type                 1\n",
       "Price                0\n",
       "Content_Rating       0\n",
       "Genres               0\n",
       "Last_Updated         1\n",
       "Current_Ver          8\n",
       "Android_Ver          2\n",
       "dtype: int64"
      ]
     },
     "execution_count": 374,
     "metadata": {},
     "output_type": "execute_result"
    }
   ],
   "source": [
    "#null values\n",
    "app_data.isnull().sum()\n",
    "\n",
    "#question:should I delete 'empty' Rating data?"
   ]
  },
  {
   "cell_type": "code",
   "execution_count": null,
   "metadata": {},
   "outputs": [],
   "source": []
  },
  {
   "cell_type": "code",
   "execution_count": 225,
   "metadata": {},
   "outputs": [
    {
     "name": "stdout",
     "output_type": "stream",
     "text": [
      "4.4    1109\n",
      "4.3    1076\n",
      "4.5    1038\n",
      "4.2     952\n",
      "4.6     823\n",
      "4.1     708\n",
      "4.0     568\n",
      "4.7     499\n",
      "3.9     386\n",
      "3.8     303\n",
      "5.0     274\n",
      "3.7     239\n",
      "4.8     234\n",
      "3.6     174\n",
      "3.5     163\n",
      "3.4     128\n",
      "3.3     102\n",
      "4.9      87\n",
      "3.0      83\n",
      "3.1      69\n",
      "3.2      64\n",
      "2.9      45\n",
      "2.8      42\n",
      "2.6      25\n",
      "2.7      25\n",
      "2.5      21\n",
      "2.3      20\n",
      "2.4      19\n",
      "1.0      16\n",
      "2.2      14\n",
      "1.9      13\n",
      "2.0      12\n",
      "1.8       8\n",
      "2.1       8\n",
      "1.7       8\n",
      "1.6       4\n",
      "1.5       3\n",
      "1.4       3\n",
      "1.2       1\n",
      "1.9       1\n",
      "Name: Rating, dtype: int64\n",
      "FAMILY                 1972\n",
      "GAME                   1144\n",
      "TOOLS                   843\n",
      "MEDICAL                 463\n",
      "BUSINESS                460\n",
      "PRODUCTIVITY            424\n",
      "PERSONALIZATION         392\n",
      "COMMUNICATION           387\n",
      "SPORTS                  384\n",
      "LIFESTYLE               382\n",
      "FINANCE                 366\n",
      "HEALTH_AND_FITNESS      341\n",
      "PHOTOGRAPHY             335\n",
      "SOCIAL                  295\n",
      "NEWS_AND_MAGAZINES      283\n",
      "SHOPPING                260\n",
      "TRAVEL_AND_LOCAL        258\n",
      "DATING                  234\n",
      "BOOKS_AND_REFERENCE     231\n",
      "VIDEO_PLAYERS           175\n",
      "EDUCATION               156\n",
      "ENTERTAINMENT           149\n",
      "MAPS_AND_NAVIGATION     137\n",
      "FOOD_AND_DRINK          127\n",
      "HOUSE_AND_HOME           88\n",
      "AUTO_AND_VEHICLES        85\n",
      "LIBRARIES_AND_DEMO       85\n",
      "WEATHER                  82\n",
      "ART_AND_DESIGN           65\n",
      "EVENTS                   64\n",
      "COMICS                   60\n",
      "PARENTING                60\n",
      "BEAUTY                   53\n",
      "Name: Category, dtype: int64\n",
      "1,000,000+        1579\n",
      "10,000,000+       1252\n",
      "100,000+          1169\n",
      "10,000+           1054\n",
      "1,000+             908\n",
      "5,000,000+         752\n",
      "100+               719\n",
      "500,000+           539\n",
      "50,000+            479\n",
      "5,000+             477\n",
      "100,000,000+       409\n",
      "10+                386\n",
      "500+               330\n",
      "50,000,000+        289\n",
      "50+                205\n",
      "5+                  82\n",
      "500,000,000+        72\n",
      "1+                  67\n",
      "1,000,000,000+      58\n",
      "0+                  14\n",
      "0                    1\n",
      "Name: Installs, dtype: int64\n"
     ]
    }
   ],
   "source": [
    "# app_data[app_data.Rating==19.0]\n",
    "print(app_data.Rating.value_counts())\n",
    "print(app_data.Category.value_counts())\n",
    "print(app_data.Installs.value_counts())\n"
   ]
  },
  {
   "cell_type": "code",
   "execution_count": 226,
   "metadata": {},
   "outputs": [
    {
     "name": "stdout",
     "output_type": "stream",
     "text": [
      "Free    10040\n",
      "Paid      800\n",
      "Name: Type, dtype: int64\n",
      "Everyone           8715\n",
      "Teen               1208\n",
      "Mature 17+          499\n",
      "Everyone 10+        414\n",
      "Adults only 18+       3\n",
      "Unrated               2\n",
      "Name: Content_Rating, dtype: int64\n"
     ]
    },
    {
     "data": {
      "text/plain": [
       "Tools                                  842\n",
       "Entertainment                          623\n",
       "Education                              549\n",
       "Medical                                463\n",
       "Business                               460\n",
       "Productivity                           424\n",
       "Sports                                 398\n",
       "Personalization                        392\n",
       "Communication                          387\n",
       "Lifestyle                              381\n",
       "Finance                                366\n",
       "Action                                 365\n",
       "Health & Fitness                       341\n",
       "Photography                            335\n",
       "Social                                 295\n",
       "News & Magazines                       283\n",
       "Shopping                               260\n",
       "Travel & Local                         257\n",
       "Dating                                 234\n",
       "Books & Reference                      231\n",
       "Arcade                                 220\n",
       "Simulation                             200\n",
       "Casual                                 193\n",
       "Video Players & Editors                173\n",
       "Puzzle                                 140\n",
       "Maps & Navigation                      137\n",
       "Food & Drink                           127\n",
       "Role Playing                           109\n",
       "Strategy                               107\n",
       "Racing                                  98\n",
       "                                      ... \n",
       "Adventure;Education                      2\n",
       "Art & Design;Pretend Play                2\n",
       "Puzzle;Creativity                        2\n",
       "Card;Action & Adventure                  2\n",
       "Video Players & Editors;Creativity       2\n",
       "Strategy;Action & Adventure              2\n",
       "Books & Reference;Education              2\n",
       "Lifestyle;Education                      1\n",
       "Lifestyle;Pretend Play                   1\n",
       "Strategy;Education                       1\n",
       "Books & Reference;Creativity             1\n",
       "Health & Fitness;Education               1\n",
       "Racing;Pretend Play                      1\n",
       "Role Playing;Education                   1\n",
       "Music & Audio;Music & Video              1\n",
       "Health & Fitness;Action & Adventure      1\n",
       "Arcade;Pretend Play                      1\n",
       "Puzzle;Education                         1\n",
       "Board;Pretend Play                       1\n",
       "Parenting;Brain Games                    1\n",
       "Card;Brain Games                         1\n",
       "Role Playing;Brain Games                 1\n",
       "Trivia;Education                         1\n",
       "Tools;Education                          1\n",
       "Communication;Creativity                 1\n",
       "Entertainment;Education                  1\n",
       "Comics;Creativity                        1\n",
       "Travel & Local;Action & Adventure        1\n",
       "Strategy;Creativity                      1\n",
       "Adventure;Brain Games                    1\n",
       "Name: Genres, Length: 119, dtype: int64"
      ]
     },
     "execution_count": 226,
     "metadata": {},
     "output_type": "execute_result"
    }
   ],
   "source": [
    "print(app_data.Type.value_counts())\n",
    "print(app_data.Content_Rating.value_counts())\n",
    "app_data.Genres.value_counts()"
   ]
  },
  {
   "cell_type": "code",
   "execution_count": 227,
   "metadata": {},
   "outputs": [
    {
     "data": {
      "text/plain": [
       "0          596\n",
       "1          272\n",
       "2          214\n",
       "3          175\n",
       "4          137\n",
       "5          108\n",
       "6           97\n",
       "7           90\n",
       "8           74\n",
       "9           65\n",
       "10          64\n",
       "12          60\n",
       "11          52\n",
       "13          49\n",
       "17          48\n",
       "14          41\n",
       "19          41\n",
       "16          35\n",
       "20          35\n",
       "21          35\n",
       "15          31\n",
       "25          30\n",
       "30          30\n",
       "24          30\n",
       "38          29\n",
       "18          27\n",
       "22          26\n",
       "27          25\n",
       "23          25\n",
       "28          24\n",
       "          ... \n",
       "37937        1\n",
       "2890         1\n",
       "247992       1\n",
       "1940         1\n",
       "421000       1\n",
       "26941        1\n",
       "55110        1\n",
       "372553       1\n",
       "48256        1\n",
       "96045        1\n",
       "16129        1\n",
       "12321        1\n",
       "408          1\n",
       "48754        1\n",
       "63920        1\n",
       "9315         1\n",
       "140995       1\n",
       "10672        1\n",
       "9881829      1\n",
       "133195       1\n",
       "70449        1\n",
       "1522         1\n",
       "301413       1\n",
       "19720        1\n",
       "3941129      1\n",
       "200450       1\n",
       "56197        1\n",
       "1013         1\n",
       "34279        1\n",
       "11773        1\n",
       "Name: Reviews, Length: 6002, dtype: int64"
      ]
     },
     "execution_count": 227,
     "metadata": {},
     "output_type": "execute_result"
    }
   ],
   "source": [
    "app_data.Reviews.value_counts()"
   ]
  },
  {
   "cell_type": "code",
   "execution_count": null,
   "metadata": {},
   "outputs": [],
   "source": [
    "\n"
   ]
  }
 ],
 "metadata": {
  "kernelspec": {
   "display_name": "Python 3",
   "language": "python",
   "name": "python3"
  }
 },
 "nbformat": 4,
 "nbformat_minor": 1
}
